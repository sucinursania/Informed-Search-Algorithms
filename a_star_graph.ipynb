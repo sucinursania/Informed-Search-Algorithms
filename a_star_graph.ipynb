{
  "nbformat": 4,
  "nbformat_minor": 0,
  "metadata": {
    "colab": {
      "provenance": [],
      "authorship_tag": "ABX9TyPPTT6sPSzmTSQHuUdZOOiS",
      "include_colab_link": true
    },
    "kernelspec": {
      "name": "python3",
      "display_name": "Python 3"
    },
    "language_info": {
      "name": "python"
    }
  },
  "cells": [
    {
      "cell_type": "markdown",
      "metadata": {
        "id": "view-in-github",
        "colab_type": "text"
      },
      "source": [
        "<a href=\"https://colab.research.google.com/github/sucinursania/Informed-Search-Algorithms/blob/main/a_star_graph.ipynb\" target=\"_parent\"><img src=\"https://colab.research.google.com/assets/colab-badge.svg\" alt=\"Open In Colab\"/></a>"
      ]
    },
    {
      "cell_type": "code",
      "source": [
        "from queue import PriorityQueue\n",
        "\n",
        "def a_star_search(graph, start, goal, heuristic):\n",
        "    frontier = PriorityQueue()\n",
        "    frontier.put((0 + heuristic[start], 0, start, [start]))  # (priority, cost_so_far, node, path)\n",
        "    explored = set()\n",
        "\n",
        "    while not frontier.empty():\n",
        "        _, cost_so_far, current_node, path = frontier.get()  # Mengambil node dengan prioritas tertinggi\n",
        "\n",
        "        if current_node == goal:\n",
        "            print(\"Simpul Tujuan Ditemukan:\", current_node)\n",
        "            print(\"Total Biaya:\", cost_so_far)\n",
        "            print(\"Jalur yang Ditempuh:\", \" -> \".join(path))\n",
        "            return True\n",
        "\n",
        "        explored.add(current_node)\n",
        "\n",
        "        for neighbor, cost in graph[current_node].items():\n",
        "            if neighbor not in explored:\n",
        "                # Hitung total biaya dari start ke neighbor\n",
        "                total_cost = cost_so_far + cost\n",
        "                # Hitung prioritas (total_cost + heuristic)\n",
        "                priority = total_cost + heuristic[neighbor]\n",
        "                # Simpan jalur baru\n",
        "                new_path = path.copy()\n",
        "                new_path.append(neighbor)\n",
        "                # Masukkan ke frontier\n",
        "                frontier.put((priority, total_cost, neighbor, new_path))\n",
        "\n",
        "    print(\"Simpul Tujuan Tidak Ditemukan\")\n",
        "    return False\n",
        "\n",
        "# Nilai heuristik untuk setiap node\n",
        "heuristic = {\n",
        "    'S': 6,\n",
        "    'A': 4,\n",
        "    'B': 3,\n",
        "    'C': 3,\n",
        "    'D': 1,\n",
        "    'G': 0\n",
        "}\n",
        "\n",
        "# Graf (dalam bentuk daftar kejadian)\n",
        "graph = {\n",
        "    'S': {'A': 3, 'B': 2},\n",
        "    'A': {'B': 1, 'D': 5},\n",
        "    'B': {'C': 2, 'D': 3},\n",
        "    'C': {'G': 4},\n",
        "    'D': {'G': 1}\n",
        "}\n",
        "\n",
        "# Node awal dan tujuan\n",
        "start_node = 'S'\n",
        "goal_node = 'G'\n",
        "\n",
        "# Panggil fungsi A* graph Search\n",
        "a_star_search(graph, start_node, goal_node, heuristic)"
      ],
      "metadata": {
        "colab": {
          "base_uri": "https://localhost:8080/"
        },
        "id": "IFZ47UtRuxxK",
        "outputId": "11fd14f2-2343-4d21-ae21-42484852a186"
      },
      "execution_count": 1,
      "outputs": [
        {
          "output_type": "stream",
          "name": "stdout",
          "text": [
            "Simpul Tujuan Ditemukan: G\n",
            "Total Biaya: 6\n",
            "Jalur yang Ditempuh: S -> B -> D -> G\n"
          ]
        },
        {
          "output_type": "execute_result",
          "data": {
            "text/plain": [
              "True"
            ]
          },
          "metadata": {},
          "execution_count": 1
        }
      ]
    }
  ]
}